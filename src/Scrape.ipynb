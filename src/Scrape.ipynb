{
 "cells": [
  {
   "cell_type": "code",
   "execution_count": null,
   "metadata": {
    "collapsed": true
   },
   "outputs": [],
   "source": [
    "# scrape and store all Q&A of one doctor\n",
    "\n",
    "from WebScraper import *\n",
    "\n",
    "# usage: python Scrape.py index foldername\n",
    "index = sys.argv[1]\n",
    "foldername = sys.argv[2]\n",
    "path = '../data/'+foldername+'/'+str(index).zfill(3)\n",
    "sys.stdout = open(path+'.log', 'a')\n",
    "docs = pd.read_csv('../data/doctors.csv', encoding='GBK', index_col=0)\n",
    "pageurl = docs.ix[int(index)]['个人网站']\n",
    "name = docs.ix[int(index)]['医生姓名']\n",
    "df = getDaifu(pageurl, name)\n",
    "df.to_csv(path+'.csv', encoding='utf-8')"
   ]
  }
 ],
 "metadata": {
  "kernelspec": {
   "display_name": "Python 3",
   "language": "python",
   "name": "python3"
  },
  "language_info": {
   "codemirror_mode": {
    "name": "ipython",
    "version": 3
   },
   "file_extension": ".py",
   "mimetype": "text/x-python",
   "name": "python",
   "nbconvert_exporter": "python",
   "pygments_lexer": "ipython3",
   "version": "3.5.1"
  }
 },
 "nbformat": 4,
 "nbformat_minor": 0
}
