{
 "cells": [
  {
   "cell_type": "code",
   "execution_count": 67,
   "metadata": {
    "collapsed": false,
    "scrolled": true
   },
   "outputs": [
    {
     "name": "stdout",
     "output_type": "stream",
     "text": [
      "Now scraping page 1\n",
      "Scraped 9 valid data out of 25 posts.\n"
     ]
    }
   ],
   "source": [
    "# scraping Q&As of Li Fei from Haodf.com\n",
    "\n",
    "import urllib.request\n",
    "from bs4 import BeautifulSoup\n",
    "import pandas as pd\n",
    "import re\n",
    "\n",
    "# weburl = \"http://www.haodf.com/wenda/dflifei_g_4642049195.htm\" # a test page\n",
    "webheader = {'User-Agent': 'Mozilla/5.0 (Macintosh; Intel Mac OS X 10_9_4) \\\n",
    "        AppleWebKit/537.36 (KHTML, like Gecko) Chrome/35.0.1916.153 Safari/537.36'}\n",
    "urls = []\n",
    "data = []\n",
    "\n",
    "def getSinglePage(pageurl):\n",
    "    req = urllib.request.Request(url=pageurl, headers=webheader)\n",
    "    try:\n",
    "        webPage = urllib.request.urlopen(req)\n",
    "        \"\"\"\n",
    "        print(type(webPage))\n",
    "        print(webPage.geturl())\n",
    "        print(webPage.info())\n",
    "        print(webPage.getcode())\n",
    "        \"\"\"\n",
    "    except:\n",
    "        print('\\033[33m Warning:\\033[0m Fail to open:', pageurl)\n",
    "        pass # failed +1\n",
    "        return None\n",
    "    else:\n",
    "        bsObj = BeautifulSoup(webPage, \"lxml\")\n",
    "        # questions = bsObj.findAll(\"div\", {\"class\":\"h_s_cons_info\"})\n",
    "        # answers = bsObj.findAll(\"div\", {\"class\":\"h_s_cons_docs\"})\n",
    "        patient = bsObj.find(lambda tag: tag.get_text() == '病情描述：')\n",
    "        if patient:\n",
    "            symptom = ''.join(list(map(str, patient.next_siblings))).replace('<br/>', '')\n",
    "            # get rid of bingli attachment\n",
    "            symptom = re.sub(r'<[^>]*>[^<>]*</[^>]*>|\\n|\\r', '', symptom)\n",
    "            patient = patient.parent.parent.parent.parent.parent # any better solution?\n",
    "            symptom_time = patient.find(\"div\", {\"class\":\"yh_l_times\"}).get_text()\n",
    "            for reply in patient.next_siblings: # diagnosis follows symptom\n",
    "                try:\n",
    "                    diagnosis = reply.find(\"div\", {\"class\":\"h_s_cons_docs\"})\n",
    "                    diagnosis = diagnosis.find(\"h3\").get_text()\n",
    "                except:\n",
    "                    continue # not a reply by doctor, keep searching...\n",
    "                else:\n",
    "                    diagnosis_time = reply.find(\"div\", {\"class\":\"yh_l_times\"}).get_text()\n",
    "                    break # only the first reply is valid\n",
    "            \"\"\"\n",
    "            print(symptom)\n",
    "            print(symptom_time)\n",
    "            print(diagnosis)\n",
    "            print(diagnosis_time)\n",
    "            \"\"\"\n",
    "            data.append({'url':pageurl, 'symptom':symptom, 'symptom_time':symptom_time, \\\n",
    "                        'diagnosis':diagnosis, 'diagnosis_time':diagnosis_time})\n",
    "        else: # not Q&As of desired pattern (see README.md)\n",
    "            pass # dirty data +1\n",
    "\n",
    "# getSinglePage(weburl)\n",
    "\n",
    "for i in range(1,2):\n",
    "    listurl = ''.join(['http://dflifei.haodf.com/zixun/list.htm?type=&p=',str(i)])\n",
    "    req = urllib.request.Request(url=listurl, headers=webheader)\n",
    "    listPage = urllib.request.urlopen(req)\n",
    "    print('Now scraping page', i)\n",
    "    bsObj = BeautifulSoup(listPage, \"lxml\")\n",
    "    listtable = bsObj.find(\"div\", {\"class\":\"zixun_list\"})\n",
    "    for post in listtable.findAll(\"a\", {\"class\":\"td_link\"}):\n",
    "        urls.append(post['href'])\n",
    "        getSinglePage(post['href'])\n",
    "\n",
    "print('Scraped', len(data), 'valid data out of', len(urls), 'posts.')"
   ]
  },
  {
   "cell_type": "code",
   "execution_count": 68,
   "metadata": {
    "collapsed": false
   },
   "outputs": [
    {
     "data": {
      "text/plain": [
       "[{'diagnosis': '可以去听课，也可以带孩子来我看看',\n",
       "  'diagnosis_time': '2016-08-26 ',\n",
       "  'symptom': '目前情况：1，不和同龄的孩子玩。主要没有兴趣，有时看见大孩子跑闹也想参与，但不知怎么去做。在大人的提示下可以和同龄孩子打招呼，握手，拥抱。。2，能够和大人快乐的玩耍，有要求，有疑问会向大人提问。吐字清楚。如：妈妈，爷爷做什么去了？但不会和大人进行一些比较社会的交流。比如你今天去海洋馆看见什么了？为什么哭了？但是会回答：有没有看见海龟等问题。偶尔也能比较吃力的描述一段刚刚发生的事，语言组织能力不灵活，句子大部分都是引用大人，或电视里听过的。基本都在场景中。3，精细动作差，拿笔划线无力，只会画圈。拿勺子吃饭僵硬不灵活，不会使用工具，除非特意去教。大运动，机械记忆较好，会骑儿童三轮车。6个月就能指认一些字。会唱儿歌，能够跟着老师跳一些简单舞蹈。自己不会单独跳。喜欢看认知型的动画片，比如天线宝宝，巧虎，米奇妙妙屋。爱反复看同一集。不爱看社会行为型的动画片：如粉红猪小妹，我是悠悠。不爱听故事。可能听不懂。偶尔有一两个听下去了。就反复听那一个。4行为刻板，会在某一段时间，坚持某个行为轨迹，改变会大哭大闹。喜欢风扇，转轮子。5，情感对大人依赖，没有安全感，一岁之前没发现这些，除了睡眠不好，很少哭闹，爱玩乐，有时还会逗陌生人玩，对母亲很亲，经常爱笑，会主动亲母亲，看见母亲下班会高兴跑过来。母乳依赖强，每天晚上要吃母乳6～7次，基本吃两口就睡了。哪怕摔破头，只要给予母乳安慰就不哭了。一周岁时，母亲开始值夜班，强制性断奶，母亲离家一周。大宝哭了近两个星期。情绪反常近2个月，直到开始愿意吃奶瓶才有好转，但是性情没有之前平稳，爱急躁，哭闹，不能等待。2岁半之前，二宝出生前还能够接受。那时经常更换抚养人，但是父母下班都是带着玩的，二宝出生时当时父母离家半月在外地住院待产。带小宝回来一个月后。大宝开始情绪失常，经常哭闹，很难哄好，夜间哭闹，每夜闹好几次。明显焦虑，抑郁。后来母亲给予多关注，让父亲陪他睡后，约半年后逐渐好转。那时依赖妈妈，和小弟弟抢妈妈，妈妈上班会哭闹，要求和妈妈一起去，看见妈妈下班会飞奔扑上去。5个月前妈妈外出两个月后，就不要妈妈了，(因中间又开始夜间哭闹被爸爸多次训斥，就跑去和爷爷睡了)，目前依赖爷爷，让妈妈走。睡觉必须要爷爷陪伴，吃饭，吃饭睡觉不见爷爷，会紧张不安哭闹很久，哪怕爷爷在家，醒来不见爷爷在床上也会哭闹，爷爷喊他自己出来也不行。非得爷爷过去。和父母户外玩一会也要问问爷爷在哪。   ',\n",
       "  'symptom_time': '2016-08-26 ',\n",
       "  'url': 'http://www.haodf.com/wenda/dflifei_g_4666329975.htm'},\n",
       " {'diagnosis': '家长您好，建议您带孩子来就诊，父母同来，带上所有医学资料。',\n",
       "  'diagnosis_time': '2016-03-15 ',\n",
       "  'symptom': '2014年发现他不与人交流,只会单字发音,经厦门妇幼保健院,疑是孤独症谱障碍,没做任何治疗.2014年6月9日,到上海鸿慈儿童医院,诊断为轻度孤独症,并做了一个疗程的生物调序治疗,症状有好转.近期老师反映,我小孩不合群,不参与互动,喜欢一个人躲在角落,一个人跑来跑去   ',\n",
       "  'symptom_time': '2016-03-15 ',\n",
       "  'url': 'http://www.haodf.com/wenda/dflifei_g_4301838002.htm'},\n",
       " {'diagnosis': '您周三来吧，一早来加号',\n",
       "  'diagnosis_time': '2016-08-26 ',\n",
       "  'symptom': '李医生你好， 我今年6月份（24个月）因为儿子语言迟缓带他到儿童医学中心就诊， 做了量表和测试， 有自闭症倾向。 几天后我带着测试结果找您咨询过一些问题。最近三个月， 经过不太系统的家庭干预和感统训练， 孩子在眼神交流， 认知理解还有和家人的配合度方面有了比较明显的进步， 但是语言没有明显进展（只会有意识喊爸爸）。   ',\n",
       "  'symptom_time': '2016-08-26 ',\n",
       "  'url': 'http://www.haodf.com/wenda/dflifei_g_4666331357.htm'},\n",
       " {'diagnosis': '好的，建议您带孩子来评估，父母同来',\n",
       "  'diagnosis_time': '2016-08-13 ',\n",
       "  'symptom': '社交上：不主动跟同龄小朋友玩，大人引导下可以和小朋友短时间玩简单游戏，如抛接球。语言交流上：家里人叫名字很少答应，跟家人和熟悉的人能进行简单的交流，陌生人叫名字和问问题基本上没有回应。自理能力：对于简单的问题可以回答，稍微复杂的问题不能理解。能自己穿裤子、鞋子、大小便知道叫人和脱裤子去坐便器拉。经常发脾气，一点小事就发脾气。很胆小。对视情况：跟熟悉的人对视还行，陌生人基本无对视。        已经挂了您本月23的号，我们是外地的，先把孩子的基本情况告诉您，麻烦李医生了！ ',\n",
       "  'symptom_time': '2016-08-13 ',\n",
       "  'url': 'http://www.haodf.com/wenda/dflifei_g_4642049195.htm'},\n",
       " {'diagnosis': '家长您好，您可看看好大夫医生简介中的“医师寄语”一栏，有具体预约方式',\n",
       "  'diagnosis_time': '2016-08-24 ',\n",
       "  'symptom': '小儿不能独立完成作业，偶尔说话结巴，朗读水平不行，去年医院确认多动症 ',\n",
       "  'symptom_time': '2016-08-24 ',\n",
       "  'url': 'http://www.haodf.com/wenda/dflifei_g_4661421053.htm'},\n",
       " {'diagnosis': '周二已经加不上了。您周三一早来吧',\n",
       "  'diagnosis_time': '2016-08-26 ',\n",
       "  'symptom': '1.不和同龄的孩子玩。主要没有兴趣，有时看见大孩子跑闹也想参与，但不知怎么去做。在大人的提示下可以和同龄孩子打招呼，握手，拥抱。2.能够和大人快乐的玩耍，有要求，有疑问会向大人提问。吐字清楚。如：妈妈，爷爷做什么去了？但不会和大人进行一些比较社会的交流。比如你今天去海洋馆看见什么了？为什么哭了？但是会回答：有没有看见海龟等问题。偶尔也能比较吃力的描述一段刚刚发生的事，语言组织能力不灵活，句子大部分都是引用大人，或电视里听过的。基本都在场景中。3.精细动作差，拿笔划线无力，只会画圈。拿勺子吃饭僵硬不灵活，不会使用工具，除非特意去教。大运动，机械记忆较好，会骑儿童三轮车。6个月就能指认一些字。会唱儿歌，能够跟着老师跳一些简单舞蹈。自己不会单独跳。喜欢看认知型的动画片，比如天线宝宝，巧虎，米奇妙妙屋。爱反复看同一集。不爱看社会行为型的动画片：如粉红猪小妹，我是悠悠。不爱听故事。可能听不懂。偶尔有一两个听下去了。就反复听那一个。4.行为刻板，会在某一段时间，坚持某个行为轨迹，改变会大哭大闹。喜欢风扇，转轮子。5.情感对大人依赖，没有安全感，一岁之前没发现这些，除了睡眠不好，很少哭闹，爱玩乐，有时还会逗陌生人玩，对母亲很亲，经常爱笑，会主动亲母亲，看见母亲下班会高兴跑过来。母乳依赖强，每天晚上要吃母乳6～7次，基本吃两口就睡了。一周岁时，强制性断奶，母亲离家一周，哭了近两个星期。情绪反常近2个月，直到开始愿意吃奶瓶才有好转，但是性情没有之前平稳，爱急躁，哭闹，不能等待。2岁半之前，二宝出生前还能够接受。那时经常更换抚养人，但是父母下班都是带着玩的，二宝出生时当时父母离家半月在外地住院待产。带小宝回来一个月后。大宝开始情绪失常，经常哭闹，很难哄好，夜间哭闹，每夜闹好几次。明显焦虑，抑郁。后来母亲给予多关注，让父亲陪他睡后，约半年后逐渐好转。那时依赖妈妈，和小弟弟抢妈妈，妈妈上班会哭闹，要求和妈妈一起去，看见妈妈下班会飞奔扑上去。5个月前妈妈外出两个月后，就不要妈妈了，(因中间又开始夜间哭闹被爸爸多次训斥，就跑去和爷爷睡了)，目前依赖爷爷，睡觉必须要爷爷陪伴，吃饭睡觉不见爷爷，会紧张不安哭闹很久，醒来不见爷爷在床上也会哭闹。和父母户外玩一会也要问问爷爷在哪？5月份测评师，建议孩子晚一年入园。8月25号南京脑科医院就诊，说轻度自闭症。   ',\n",
       "  'symptom_time': '2016-08-26 ',\n",
       "  'url': 'http://www.haodf.com/wenda/dflifei_g_4665937456.htm'},\n",
       " {'diagnosis': '家长您好，您可看看好大夫医生简介中的“医师寄语”一栏，有具体预约方式',\n",
       "  'diagnosis_time': '2016-08-13 ',\n",
       "  'symptom': '宝宝主要情况介绍：主要优点：1、聪明，一岁整玩玩具自己学会0-9。自己能解苹果手机的4位数密码，一岁半跟着挂图学会1-100。会认十几种颜色。现在两岁十一个月认识至少五百个汉字，看着图片能读四十多首唐诗，也能背诵很多唐诗以及很长的三字经，但是吐字不清晰。2、喜爱运动，尤其喜欢蹦跳，玩蹦蹦床。玩单杠双臂有劲。其他运动都还行。主要问题：感觉随着年龄的增长，认知能力、社交能力、语言能力发展越来越慢。不交流不听大人指令。1、说话晚，叫爸爸妈妈爷爷奶奶阿姨早，在8个月左右是爸爸妈妈叫的很清晰。但说第一句完整的话已经两岁两个月。目前说话仍不太好，吐字不清，有时甚至听不懂嘴里在说什么。在10个月左右的时候曾经高热2次，最高41度，没惊厥，在医院抽血住院之类的哭的比较厉害，感觉之后宝宝性格好像变得不开朗了，刚出院时都害怕人多的地方，比如电梯。其他方面没发现与之前有什么差别。2、不爱应答。叫名字很少有反应。但幼儿期会立刻回头。3、交流不畅，不太回答问题，不听大人指令。对大人的问话感觉不太听得懂，有的问题回答，大多数不回答，或以重复大人的提问做答。不主动用语言表达自己的诉求，比如喝水吃饭睡觉，更愿意用行动表示。对外人问话一概不予理会。4、不愿与小朋友一起玩。不介意旁边有小朋友，但是不与人玩。不知这与家庭环境单一是否有一定关系，没有小区，接触小朋友的机会很少。5、早教课上与老师配合得不太好，而且不愿意遵守规矩。在家吃饭也是这样，胃口不佳，乱跑。6、胆子非常小，怕黑怕怪音怕水（也爱玩水）。从不与小朋友抢东西，都是人家抢就给人家了，貌似有点怕。7、上幼儿园小小班一周了，也不与其他小朋友交流，老让老师抱着，不抱趴地上不起来。也能看到一些进步，会简单的跳舞动作。   ',\n",
       "  'symptom_time': '2016-08-13 ',\n",
       "  'url': 'http://www.haodf.com/wenda/dflifei_g_4640864915.htm'},\n",
       " {'diagnosis': '家长您好，建议您带孩子来就诊，父母同来，带上所有医学资料。',\n",
       "  'diagnosis_time': '2015-12-20 ',\n",
       "  'symptom': '医生您好，我的孩子在一年级时就发现有大喊大叫，打人，不服管教的行为，期间做过一段时间的沙盘游戏，有所好转，最近发现他感到拘束时会傻笑，问我们该怎么办？   ',\n",
       "  'symptom_time': '2015-12-20 ',\n",
       "  'url': 'http://www.haodf.com/wenda/dflifei_g_3975438508.htm'},\n",
       " {'diagnosis': '如果只是发育迟缓，可以在新华医院康复科就诊',\n",
       "  'diagnosis_time': '2016-08-25 ',\n",
       "  'symptom': '发育迟缓，不会爬，听不懂大人指令，走路松手可以走5米左右   ',\n",
       "  'symptom_time': '2016-08-25 ',\n",
       "  'url': 'http://www.haodf.com/wenda/dflifei_g_4664584929.htm'}]"
      ]
     },
     "execution_count": 68,
     "metadata": {},
     "output_type": "execute_result"
    }
   ],
   "source": [
    "data"
   ]
  }
 ],
 "metadata": {
  "kernelspec": {
   "display_name": "Python 3",
   "language": "python",
   "name": "python3"
  },
  "language_info": {
   "codemirror_mode": {
    "name": "ipython",
    "version": 3
   },
   "file_extension": ".py",
   "mimetype": "text/x-python",
   "name": "python",
   "nbconvert_exporter": "python",
   "pygments_lexer": "ipython3",
   "version": "3.5.1"
  }
 },
 "nbformat": 4,
 "nbformat_minor": 0
}
