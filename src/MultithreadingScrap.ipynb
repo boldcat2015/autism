{
 "cells": [
  {
   "cell_type": "code",
   "execution_count": null,
   "metadata": {
    "collapsed": true
   },
   "outputs": [],
   "source": [
    "# Multithreading scrapers\n",
    "\n",
    "from WebScraper import *"
   ]
  },
  {
   "cell_type": "code",
   "execution_count": null,
   "metadata": {
    "collapsed": false
   },
   "outputs": [],
   "source": [
    "# docs = pd.DataFrame(getJibing(testjibing), columns=['医生姓名','个人网站'])\n",
    "# docs = docs.to_csv('../data/doctors.csv', encoding='GBK')\n",
    "docs = pd.read_csv('../data/doctors.csv', encoding='GBK', index_col=0)"
   ]
  },
  {
   "cell_type": "code",
   "execution_count": null,
   "metadata": {
    "collapsed": false
   },
   "outputs": [],
   "source": [
    "data = pd.DataFrame( \\\n",
    "        columns=['咨询标题','咨询时间','疾病','病情描述','希望提供的帮助','所就诊医院科室','用药情况', \\\n",
    "                 '治疗情况','既往病史','标签','标签网址','大夫回复','大夫','回复时间','url'])\n",
    "\n",
    "for i in docs.index:\n",
    "    print('Now scraping doctor', docs.ix[i]['医生姓名'])\n",
    "    df = getDaifu(docs.ix[i]['个人网站'])\n",
    "    df['大夫'] = docs.ix[i]['医生姓名']\n",
    "    data = data.append(df, ignore_index=True)\n",
    "\n",
    "data.to_csv('../data/data-' \\\n",
    "                + datetime.datetime.today().strftime('%Y-%m-%d-%H.%M.%S') \\\n",
    "                + '.csv', encoding='utf-8')\n"
   ]
  }
 ],
 "metadata": {
  "kernelspec": {
   "display_name": "Python 3",
   "language": "python",
   "name": "python3"
  },
  "language_info": {
   "codemirror_mode": {
    "name": "ipython",
    "version": 3
   },
   "file_extension": ".py",
   "mimetype": "text/x-python",
   "name": "python",
   "nbconvert_exporter": "python",
   "pygments_lexer": "ipython3",
   "version": "3.5.1"
  }
 },
 "nbformat": 4,
 "nbformat_minor": 0
}
